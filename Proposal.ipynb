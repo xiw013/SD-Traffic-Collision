{
 "cells": [
  {
   "cell_type": "markdown",
   "metadata": {},
   "source": [
    "# COGS 108 - Final Project Proposal"
   ]
  },
  {
   "cell_type": "markdown",
   "metadata": {},
   "source": [
    "# Names\n",
    "\n",
    "- Jiayang Bao\n",
    "- Yuxuan Chen\n",
    "- Jingtian Ma\n",
    "- Tianze Zhang\n",
    "- Cindy Wang"
   ]
  },
  {
   "cell_type": "markdown",
   "metadata": {},
   "source": [
    "# Research Question"
   ]
  },
  {
   "cell_type": "markdown",
   "metadata": {},
   "source": [
    "*Whether traffic accidents in San Diego are specifically linked to time and location, and the impact of the types of accidents that occur in different time &locations.*"
   ]
  },
  {
   "cell_type": "markdown",
   "metadata": {},
   "source": [
    "## Background and Prior Work"
   ]
  },
  {
   "cell_type": "markdown",
   "metadata": {},
   "source": [
    "The use of vehicles become human being’s indispensable part of modern society. Although driving provides people with many conveniences, we can not overlook the large number of car accidents that happened every day and everywhere. In the US, there are 6 million car accidents every year and more than 90 people die in car accidents every day[1]. As students study and live in San Diego, we want to know if there is way to predict the time and locations of car accidents happend in San Diego[2].Our project aims to find out whether car accidents in San Diego are specifically linked to time and location, and the impact of the types of accidents that occur in different time and locations. Then, we want to produce an predictive analysis to demonstrate when and where are most likely to occur car accidents in San Diego. Our prior work already access to the car accidents datasets published by the govenment of San Diego, and read other similar study and analysis in NewYork and Los Angeles.\n",
    "\n",
    "1.Car Accident Statistics in the U.S. (2021, March 17). DriverKnowledge. https://www.driverknowledge.com/car-accident-statistics/\n",
    "\n",
    "2.Deep learning helps predict traffic crashes before they happen. (2021, October 12). MIT News | Massachusetts Institute of Technology. https://news.mit.edu/2021/deep-learning-helps-predict-traffic-crashes-1012"
   ]
  },
  {
   "cell_type": "markdown",
   "metadata": {},
   "source": [
    "# Hypothesis\n"
   ]
  },
  {
   "cell_type": "markdown",
   "metadata": {},
   "source": [
    "*We believe that day time (such as 8am and 5pm ) and urban areas are most likely to occur car accidents. Since  8am and 5pm are the time people go to work and go home, there are more cars on the street and the possibility of accidents thus increases. Also, because urban areas usually have more car and crowded, the chance of accidents is higher than other areas.*"
   ]
  },
  {
   "cell_type": "markdown",
   "metadata": {},
   "source": [
    "# Data"
   ]
  },
  {
   "cell_type": "markdown",
   "metadata": {},
   "source": [
    "*Since we want to analyze the traffic collisions are more likely to occur at what time, in which locations, and what actions will cause more injuries or even death in San Diego. We want to have a dataset which includes time, location, reasons of traffic collisions and number of injuries or death. They will be stored in a csv file in which each column will be the variables listed above and each row represents a single traffic collision case. We want to have as many observations as we could possibly have, since we want to make sure we can get a relatively accurate result from those observations. Every traffic collision case will make up our observations. Since the road and traffic conditions change very quickly, we don’t want to use the data which were from three or four years ago. The ideal datasets will be the data obtained from this year or one year ago.*"
   ]
  },
  {
   "cell_type": "markdown",
   "metadata": {},
   "source": [
    "# Ethics & Privacy"
   ]
  },
  {
   "cell_type": "markdown",
   "metadata": {},
   "source": [
    "*For data collection, all the traffic collision data we used are trustworthy dataset recorded by the San Diego Police Departments and are publicly available in the San Diego governmental database. Since all personal and private information such as gender and age are already excluded from the data, there shouldn’t be any forms of privacy violation within this study, and there is no need to secure and protect the data. Furthermore, our primary focus is to analyze the specific location and time period for collisions which are not associated with all kinds of personal characteristics’ information, and the time and location are objective statistics that are collected based on strict and uniform standards. Therefore, we believe that our pure data are free from any biases during data collection.\n",
    "One potential bias of the data that we collected is the lack of collision information for some places in the city due to various circumstances. To address this problem, we will specify the location range that our data covered to avoid any misleading conclusions.\n",
    "Finally, during data analysis, we will make sure to include as much data as possible from all locations in the San Diego city to ensure that our data are representative of the whole. All of our visualization, summary statistics are honest representations of the data we collected, and we will include a detailed explanation of each step we take to make those conclusions clear and convincing.*"
   ]
  },
  {
   "cell_type": "markdown",
   "metadata": {},
   "source": [
    "# Team Expectations "
   ]
  },
  {
   "cell_type": "markdown",
   "metadata": {},
   "source": [
    "* *Every member should perform their assigned jobs to a reasonable standard.*\n",
    "* *Every member should actively participate in group meetings, brainstorming, and problem-solving.*\n",
    "* *Every member should display a respectful attitude and maintain good attendance.*\n",
    "* *Every member should listen to each other and work with honesty and integrity.*\n",
    "* *Every member should participate in deciding the project topic, searching for possible datasets, and honing the data science question.* \n",
    "* *Every member should write well-commented code and communicate to the group.*\n",
    "* *Every member should edit the text and code throughout the project for grammar, misspellings, and clarity.*\n",
    "* *Every member should not modify code or dataset in the collaborative platform without consent from every group member.*\n",
    "* *Every member should keep a backup copy of the original code before preceding to next step work.*"
   ]
  },
  {
   "cell_type": "markdown",
   "metadata": {},
   "source": [
    "# Project Timeline Proposal"
   ]
  },
  {
   "cell_type": "markdown",
   "metadata": {},
   "source": [
    "| Meeting Date  | Meeting Time| Completed Before Meeting  | Discuss at Meeting |\n",
    "|---|---|---|---|\n",
    "| 4/21 |  9 PM | brainstorm topics/questions for final project  | Determine best form of communication; Discuss and decide on final project topic; discuss hypothesis; begin background research; work on project proposal| \n",
    "| 4/26  |  9 PM |  Do background research on topic, think about ways to approach the topic  | work distribution | \n",
    "| 5/1  | 9 PM  | each group member work on their parts of the project | Discuss process and difficulties and try to solve those difficulties  |\n",
    "| 5/23  | 9 PM  | think of more approaches that could be add on to current results | Discuss current results and processes, and distribute remaining work |\n",
    "| 6/10  | 9 PM  | complete unfinished parts | Turn in Final Project & Group Project Surveys |"
   ]
  }
 ],
 "metadata": {
  "kernelspec": {
   "display_name": "Python 3",
   "language": "python",
   "name": "python3"
  },
  "language_info": {
   "codemirror_mode": {
    "name": "ipython",
    "version": 3
   },
   "file_extension": ".py",
   "mimetype": "text/x-python",
   "name": "python",
   "nbconvert_exporter": "python",
   "pygments_lexer": "ipython3",
   "version": "3.7.9"
  }
 },
 "nbformat": 4,
 "nbformat_minor": 2
}
